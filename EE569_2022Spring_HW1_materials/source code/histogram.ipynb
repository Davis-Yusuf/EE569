{
 "cells": [
  {
   "cell_type": "code",
   "execution_count": 1,
   "metadata": {},
   "outputs": [],
   "source": [
    "import csv\n",
    "import matplotlib.pyplot as plt"
   ]
  },
  {
   "cell_type": "code",
   "execution_count": 2,
   "metadata": {},
   "outputs": [],
   "source": [
    "arr = []"
   ]
  },
  {
   "cell_type": "code",
   "execution_count": 3,
   "metadata": {},
   "outputs": [],
   "source": [
    "#Reading CSV and appending it into an array\n",
    "with open(\"histogram.csv\", \"r\") as temp_file: \n",
    "    read = csv.reader(temp_file)\n",
    "    for i in read:\n",
    "        for x in i:\n",
    "            arr.append(x)"
   ]
  },
  {
   "cell_type": "code",
   "execution_count": 4,
   "metadata": {},
   "outputs": [],
   "source": [
    "#collections to count the number of pixels for each intensity\n",
    "temp = collections.Counter(arr)\n",
    "pixel_values = []"
   ]
  },
  {
   "cell_type": "code",
   "execution_count": 5,
   "metadata": {},
   "outputs": [],
   "source": [
    "#Sorting the array\n",
    "for i in sorted(temp):\n",
    "    pixel_values.append(temp[i])"
   ]
  },
  {
   "cell_type": "code",
   "execution_count": 6,
   "metadata": {},
   "outputs": [
    {
     "name": "stdout",
     "output_type": "stream",
     "text": [
      "[1, 16, 744, 200, 154, 145, 132, 154, 129, 111, 129, 1354, 121, 115, 100, 91, 95, 73, 87, 1089, 92, 81, 73, 76, 61, 48, 47, 1484, 45, 37, 33, 26, 31, 23, 14, 1664, 23, 30, 22, 23, 18, 22, 15, 1677, 20, 24, 13, 19, 23, 13, 2091, 27, 16, 28, 24, 22, 25, 2543, 28, 28, 22, 26, 27, 33, 2078, 43, 37, 37, 30, 26, 24, 1110, 30, 25, 22, 36, 30, 23, 114, 625, 26, 31, 33, 40, 42, 53, 446, 38, 41, 53, 45, 50, 207, 50, 35, 47, 53, 35, 378, 48, 34, 26, 21, 18, 13, 428, 8, 7, 1, 4, 2, 245, 1, 610, 355, 742, 602, 84, 1297, 993, 2602, 1162, 1512, 2431, 929, 744, 1476, 615, 137, 577, 491, 852, 302, 271, 485, 472, 844, 435, 417, 262, 403, 387, 356, 351, 333, 351, 638, 322, 310, 350, 406, 325, 334, 357, 377, 401, 400, 449, 433, 471, 479, 694, 504, 525, 505, 511, 507, 518, 480, 554, 512, 942, 441, 471, 440, 481, 455, 446, 398, 414, 330, 905, 332, 338, 318, 291, 271, 242, 236, 193]\n"
     ]
    }
   ],
   "source": [
    "print(pixel_values)"
   ]
  },
  {
   "cell_type": "code",
   "execution_count": 7,
   "metadata": {},
   "outputs": [],
   "source": [
    "#Convert dict to list objects and sort, also done in C++\n",
    "pixel_count = list(temp.keys())\n",
    "pixel_count = [int(x) for x in pixel_count]\n",
    "pixel_count.sort()"
   ]
  },
  {
   "cell_type": "code",
   "execution_count": 8,
   "metadata": {},
   "outputs": [
    {
     "name": "stdout",
     "output_type": "stream",
     "text": [
      "[0, 1, 2, 3, 4, 5, 6, 7, 8, 9, 10, 11, 12, 13, 14, 15, 16, 17, 18, 19, 20, 21, 22, 23, 24, 25, 26, 27, 28, 29, 30, 31, 32, 33, 34, 35, 36, 37, 38, 39, 40, 41, 42, 43, 44, 45, 46, 47, 48, 49, 50, 51, 52, 53, 54, 55, 56, 57, 58, 59, 60, 61, 62, 63, 64, 65, 66, 67, 68, 69, 70, 71, 73, 74, 75, 76, 77, 78, 79, 80, 81, 82, 84, 85, 86, 87, 88, 89, 91, 92, 93, 94, 95, 97, 98, 99, 100, 102, 103, 104, 105, 107, 108, 109, 111, 112, 113, 115, 116, 117, 119, 120, 121, 123, 124, 126, 127, 128, 130, 131, 133, 134, 136, 137, 139, 140, 142, 143, 145, 146, 148, 149, 151, 152, 154, 155, 157, 158, 160, 162, 163, 165, 166, 168, 170, 171, 173, 175, 176, 178, 180, 181, 183, 185, 186, 188, 190, 192, 193, 195, 197, 199, 200, 202, 204, 206, 207, 209, 211, 213, 215, 217, 218, 220, 222, 224, 226, 228, 230, 232, 233, 235, 237, 239, 241, 243, 245, 247, 249, 255]\n"
     ]
    }
   ],
   "source": [
    "print(pixel_count)"
   ]
  },
  {
   "cell_type": "code",
   "execution_count": 21,
   "metadata": {},
   "outputs": [],
   "source": [
    "# Storing the pixel count to transfer to C++ file\n",
    "# f = open(\"hat_data.txt\", \"a\")\n",
    "# f.write(str(y_vals))\n",
    "# f.write(str(x_vals))\n",
    "# f.close()\n",
    "pix_vals = [0, 1, 2, 3, 4, 5, 6, 7, 8, 9, 10, 11, 12, 13, 14, 15, 16, 17, 18, 19, 20, 21, 22\n",
    ", 23, 24, 25, 26, 27, 28, 29, 30, 31, 32, 33, 34, 35, 36, 37, 38, 39, 40, 41, 42\n",
    ", 43, 44, 45, 46, 47, 48, 49, 50, 51, 52, 53, 54, 55, 56, 57, 58, 59, 60, 61, 62\n",
    ", 63, 64, 65, 66, 67, 68, 69, 70, 71, 72, 73, 74, 75, 76, 77, 78, 79, 80, 81, 82\n",
    ", 83, 84, 85, 86, 87, 88, 89, 90, 91, 92, 93, 94, 95, 96, 97, 98, 99, 100, 101,\n",
    "102, 103, 104, 105, 106, 107, 108, 109, 110, 111, 112, 113, 114, 115, 116, 117,\n",
    "118, 119, 120, 121, 122, 123, 124, 125, 126, 127, 128, 129, 130, 131, 132, 133,\n",
    "134, 135, 136, 137, 138, 139, 140, 141, 142, 143, 144, 145, 146, 147, 148, 149,\n",
    "150, 151, 152, 153, 154, 155, 156, 157, 158, 159, 160, 161, 162, 163, 164, 165,\n",
    "166, 167, 168, 169, 170, 171, 172, 173, 174, 175, 176, 177, 178, 179, 180, 181,\n",
    "182, 183, 184, 185, 186, 187, 188, 189, 190, 191, 192, 193, 194, 195, 196, 197,\n",
    "198, 199, 200, 201, 202, 203, 204, 205, 206, 207, 208, 209, 210, 211, 212, 213,\n",
    "214, 215, 216, 217, 218, 219, 220, 221, 222, 223, 224, 225, 226, 227, 228, 229,\n",
    "230, 231, 232, 233, 234, 235, 236, 237, 238, 239, 240, 241, 242, 243, 244, 245,\n",
    "246, 247, 248, 249, 250, 251, 252, 253, 254, 255]\n",
    "\n",
    "pix_count = [1,16,114,84,137,262,406,694,942,905,744,1354,1089,1484,1664,1677,2091,2543,2078,1110,625,446,207,378,428,245,610,355,742,602,1297,993,2602,1162,1512,2431,929,744,1476,615,577,491,852,302,271,485,472,844,435,417,403,387,356,351,333,351,638,322,310,350,325,334,357,377,401,400,449,433,471,479,504,525,0,505,511,507,518,480,554,512,441,471,440,0,481,455,446,398,414,330,0,332,338,318,291,271,0,242,236,193,200,0,154,145,132,154,0,129,111,129,0,121,115,100,0,91,95,73,0,87,92,81,0,73,76,0,61,48,47,0,45,37,0,33,26,0,31,23,0,14,23,0,30,22,0,23,18,0,22,15,0,20,24,0,13,19,0,23,13,0,27,0,16,28,0,24,22,0,25,0,28,28,0,22,0,26,27,0,33,0,43,37,0,37,0,30,26,0,24,0,30,0,25,22,0,36,0,30,0,23,26,0,31,0,33,0,40,42,0,53,0,38,0,41,0,53,0,45,50,0,50,0,35,0,47,0,53,0,35,0,48,0,34,26,0,21,0,18,0,13,0,8,0,7,0,1,0,4,0,2,0,0,0,0,0,1]"
   ]
  },
  {
   "cell_type": "code",
   "execution_count": 22,
   "metadata": {},
   "outputs": [],
   "source": [
    "#normalizes the pixel values by 65536, also done inside C++ file\n",
    "# normalized_count = []\n",
    "# for k in range(len(pixel_values)):\n",
    "#     normalized_count.append(pixel_values[k] / 65536)\n",
    "normalized_count = []\n",
    "for k in range(len(pix_count)):\n",
    "    normalized_count.append(pix_count[k] / 65536)"
   ]
  },
  {
   "cell_type": "code",
   "execution_count": 23,
   "metadata": {},
   "outputs": [
    {
     "data": {
      "text/plain": [
       "<BarContainer object of 256 artists>"
      ]
     },
     "execution_count": 23,
     "metadata": {},
     "output_type": "execute_result"
    },
    {
     "data": {
      "image/png": "[encoded data removed]",
      "text/plain": [
       "<Figure size 432x288 with 1 Axes>"
      ]
     },
     "metadata": {
      "needs_background": "light"
     },
     "output_type": "display_data"
    }
   ],
   "source": [
    "#Histogram for originial hat image\n",
    "plt.bar(pix_vals, pix_count, color='g')\n",
    "# plt.savefig('hat_histogram.png', bbox_inches='tight')"
   ]
  },
  {
   "cell_type": "code",
   "execution_count": 24,
   "metadata": {},
   "outputs": [
    {
     "data": {
      "text/plain": [
       "<BarContainer object of 256 artists>"
      ]
     },
     "execution_count": 24,
     "metadata": {},
     "output_type": "execute_result"
    },
    {
     "data": {
      "image/png": "[encoded data removed]",
      "text/plain": [
       "<Figure size 432x288 with 1 Axes>"
      ]
     },
     "metadata": {
      "needs_background": "light"
     },
     "output_type": "display_data"
    }
   ],
   "source": [
    "#Histogram for PDF\n",
    "plt.bar(pix_vals, normalized_count, color='b')"
   ]
  },
  {
   "cell_type": "code",
   "execution_count": 27,
   "metadata": {},
   "outputs": [
    {
     "name": "stdout",
     "output_type": "stream",
     "text": [
      "256\n"
     ]
    },
    {
     "data": {
      "text/plain": [
       "[<matplotlib.lines.Line2D at 0x2176caf3a48>]"
      ]
     },
     "execution_count": 27,
     "metadata": {},
     "output_type": "execute_result"
    },
    {
     "data": {
      "image/png": "[encoded data removed]",
      "text/plain": [
       "<Figure size 432x288 with 1 Axes>"
      ]
     },
     "metadata": {
      "needs_background": "light"
     },
     "output_type": "display_data"
    }
   ],
   "source": [
    "#Histogram for CDF\n",
    "cumulative_probp = [0, 0, 1, 1, 1, 2, 4, 7, 10, 14, 17, 22, 26, 32, 39, 45, 53, 63, 71, 75, 78, 80, 80, 82, 84, 85, 87, 88\n",
    ", 91, 94, 99, 102, 113, 117, 123, 132, 136, 139, 145, 147, 149, 151, 155, 156, 157, 159, 160, 164, 165\n",
    ", 167, 169, 170, 172, 173, 174, 176, 178, 179, 181, 182, 183, 184, 186, 187, 189, 190, 192, 194, 196,\n",
    "198, 199, 202, 202, 204, 205, 207, 209, 211, 214, 215, 217, 219, 221, 221, 223, 224, 226, 228, 229, 231, 231, 232, 233, 234, 236, 237, 237, 238, 238, 239, 240, 240, 241, 241, 242, 242, 242, 243, 243, 244,\n",
    " 244, 244, 245, 245, 245, 245, 246, 246, 246, 246, 247, 247, 247, 247, 248, 248, 248, 248, 248, 248, 248, 249, 249, 249, 249, 249, 249, 249, 249, 249, 249, 249, 249, 249, 249, 249, 249, 249, 250, 250, 250\n",
    ", 250, 250, 250, 250, 250, 250, 250, 250, 250, 250, 250, 250, 250, 250, 250, 251, 251, 251, 251, 251,\n",
    "251, 251, 251, 251, 251, 251, 251, 251, 251, 251, 252, 252, 252, 252, 252, 252, 252, 252, 252, 252, 252, 252, 252, 252, 252, 252, 253, 253, 253, 253, 253, 253, 253, 253, 253, 253, 253, 253, 254, 254, 254,\n",
    " 254, 254, 254, 254, 254, 254, 254, 254, 255, 255, 255, 255, 255, 255, 255, 255, 255, 255, 255, 255, 256, 256, 256, 256, 256, 256, 256, 256, 256, 256, 256, 256, 256, 256, 256, 256, 256, 256, 256, 256, 256\n",
    ", 256, 256, 256]\n",
    "\n",
    "print(len(cumulative_probp))\n",
    "plt.plot(pix_vals, cumulative_probp, color='r')"
   ]
  },
  {
   "cell_type": "code",
   "execution_count": null,
   "metadata": {},
   "outputs": [],
   "source": []
  }
 ],
 "metadata": {
  "kernelspec": {
   "display_name": "Python 3",
   "language": "python",
   "name": "python3"
  },
  "language_info": {
   "codemirror_mode": {
    "name": "ipython",
    "version": 3
   },
   "file_extension": ".py",
   "mimetype": "text/x-python",
   "name": "python",
   "nbconvert_exporter": "python",
   "pygments_lexer": "ipython3",
   "version": "3.7.6"
  }
 },
 "nbformat": 4,
 "nbformat_minor": 4
}
